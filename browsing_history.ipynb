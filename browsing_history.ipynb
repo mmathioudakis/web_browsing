{
 "metadata": {
  "name": "",
  "signature": "sha256:fcfbda5f337c4f6039d28cf98783c563aec1123e56484662af720862516032cb"
 },
 "nbformat": 3,
 "nbformat_minor": 0,
 "worksheets": [
  {
   "cells": [
    {
     "cell_type": "raw",
     "metadata": {},
     "source": [
      "In this notebook, we describe how to retrieve our browsing history from Safari (Part 1) and produce some simple plots (Part 2) in order to see what websites we visit most often.\n",
      "\n",
      "(Note: this was run on Mac OS X 10.10.2)."
     ]
    },
    {
     "cell_type": "heading",
     "level": 2,
     "metadata": {},
     "source": [
      "Part 1: Retrieving our Safari Browsing History"
     ]
    },
    {
     "cell_type": "markdown",
     "metadata": {},
     "source": [
      "To access our browsing history, we go to ~/Library/Safari and look for the database *History.db*. We make a copy of it in a folder in our workspace, e.g. to *~/workspace/safari/hs.db*."
     ]
    },
    {
     "cell_type": "code",
     "collapsed": false,
     "input": [
      "%%bash\n",
      "cp ~/Library/Safari/History.db ~/Workspace/web_browsing/hs.db"
     ],
     "language": "python",
     "metadata": {},
     "outputs": [],
     "prompt_number": 1
    },
    {
     "cell_type": "markdown",
     "metadata": {},
     "source": [
      "Now let us fire up sqlite3 and see what tables are inside the database."
     ]
    },
    {
     "cell_type": "code",
     "collapsed": false,
     "input": [
      "%%script sqlite3 hs.db\n",
      ".tables"
     ],
     "language": "python",
     "metadata": {},
     "outputs": [
      {
       "output_type": "stream",
       "stream": "stdout",
       "text": [
        "history_items       history_tombstones  history_visits      metadata          \n"
       ]
      }
     ],
     "prompt_number": 2
    },
    {
     "cell_type": "markdown",
     "metadata": {},
     "source": [
      "Among the four (4) tables above, we'll be using 'history_items' and 'history_visits'. Let's take a look at their schemata."
     ]
    },
    {
     "cell_type": "code",
     "collapsed": false,
     "input": [
      "%%script sqlite3 hs.db\n",
      ".schema history_items"
     ],
     "language": "python",
     "metadata": {},
     "outputs": [
      {
       "output_type": "stream",
       "stream": "stdout",
       "text": [
        "CREATE TABLE history_items (id INTEGER PRIMARY KEY AUTOINCREMENT,url TEXT NOT NULL UNIQUE,domain_expansion TEXT NULL,visit_count INTEGER NOT NULL,daily_visit_counts BLOB NOT NULL,weekly_visit_counts BLOB NULL,autocomplete_triggers BLOB NULL,should_recompute_derived_visit_counts INTEGER NOT NULL);\n",
        "CREATE INDEX history_items__domain_expansion ON history_items (domain_expansion);\n"
       ]
      }
     ],
     "prompt_number": 3
    },
    {
     "cell_type": "code",
     "collapsed": false,
     "input": [
      "%%script sqlite3 hs.db\n",
      ".schema history_visits "
     ],
     "language": "python",
     "metadata": {},
     "outputs": [
      {
       "output_type": "stream",
       "stream": "stdout",
       "text": [
        "CREATE TABLE history_visits (id INTEGER PRIMARY KEY AUTOINCREMENT,history_item INTEGER NOT NULL REFERENCES history_items(id) ON DELETE CASCADE,visit_time REAL NOT NULL,title TEXT NULL,load_successful BOOLEAN NOT NULL DEFAULT 1,http_non_get BOOLEAN NOT NULL DEFAULT 0,synthesized BOOLEAN NOT NULL DEFAULT 0,redirect_source INTEGER NULL UNIQUE REFERENCES history_visits(id) ON DELETE CASCADE,redirect_destination INTEGER NULL UNIQUE REFERENCES history_visits(id) ON DELETE CASCADE,origin INTEGER NOT NULL DEFAULT 0,generation INTEGER NOT NULL DEFAULT 0);\n",
        "CREATE INDEX history_visits__last_visit ON history_visits (history_item, visit_time DESC, synthesized ASC);\n",
        "CREATE INDEX history_visits__origin ON history_visits (origin, generation);\n"
       ]
      }
     ],
     "prompt_number": 4
    },
    {
     "cell_type": "markdown",
     "metadata": {},
     "source": [
      "The first thing to note is that each *history visit* table is associated with one *history item*, as we can tell from 'history_item' column in 'history_visits' table.\n",
      "\n",
      "`history_item INTEGER NOT NULL REFERENCES history_items(id) ON DELETE CASCADE`\n",
      "\n",
      "Moreover, as we can tell from the columns of the two tables, 'history_visits' contains information about individual visits to websites, like the *time* of the visit and the *title* of the website, while *history_items* contains general and aggregate information about the websites we visit, such as their url and number of visits.\n",
      "\n",
      "Let's take a look now at the addresses that we visit most often (and despair later)..."
     ]
    },
    {
     "cell_type": "code",
     "collapsed": false,
     "input": [
      "%%script sqlite3 hs.db\n",
      "SELECT id, url, visit_count  FROM history_items ORDER BY visit_count DESC LIMIT 5;"
     ],
     "language": "python",
     "metadata": {},
     "outputs": [
      {
       "output_type": "stream",
       "stream": "stdout",
       "text": [
        "491|https://twitter.com/|2574\n",
        "9252|https://www.facebook.com/|1408\n",
        "17706|http://international.nytimes.com/|1101\n",
        "18|http://www.theverge.com/|966\n",
        "23141|https://mail.google.com/mail/u/0/#inbox|802\n"
       ]
      }
     ],
     "prompt_number": 5
    },
    {
     "cell_type": "markdown",
     "metadata": {},
     "source": [
      "...As well as our most recent visits. Note that, from what I can tell at least, time is expressed as the number of seconds since the beginning of 2001-01-01."
     ]
    },
    {
     "cell_type": "code",
     "collapsed": false,
     "input": [
      "%%script sqlite3 hs.db\n",
      "SELECT V.title, I.url, V.visit_time\n",
      "FROM history_items as I,\n",
      "(SELECT history_item, title, visit_time FROM history_visits ORDER BY visit_time DESC LIMIT 5) as V\n",
      "WHERE I.id = V.history_item;"
     ],
     "language": "python",
     "metadata": {},
     "outputs": [
      {
       "output_type": "stream",
       "stream": "stdout",
       "text": [
        "web_browsing/LICENSE at master \u00b7 mmathioudakis/web_browsing|https://github.com/mmathioudakis/web_browsing/blob/master/LICENSE|447553880.488428\n",
        "mmathioudakis/web_browsing|https://github.com/mmathioudakis/web_browsing/blob/master/LICENSE|447553880.191719\n",
        "mmathioudakis/web_browsing|https://github.com/repositories|447553880.166885\n",
        "mmathioudakis/web_browsing|https://github.com/mmathioudakis/web_browsing|447553876.265784\n",
        "|https://github.com/repositories|447553876.265621\n"
       ]
      }
     ],
     "prompt_number": 6
    },
    {
     "cell_type": "markdown",
     "metadata": {},
     "source": [
      "Finally, let's dump to text files ('visits.csv') only the information that interests us: for now, that's only the web address visited (url) and the associated timestamp."
     ]
    },
    {
     "cell_type": "code",
     "collapsed": false,
     "input": [
      "%%bash --out visits\n",
      "sqlite3 hs.db \\\n",
      "\"SELECT V.title, I.url, V.visit_time \\\n",
      "FROM history_items as I, \\\n",
      "(SELECT history_item, title, visit_time FROM history_visits) as V \\\n",
      "WHERE I.id = V.history_item;\" \n"
     ],
     "language": "python",
     "metadata": {},
     "outputs": [],
     "prompt_number": 7
    },
    {
     "cell_type": "code",
     "collapsed": false,
     "input": [
      "f = open('visits.txt', 'w')\n",
      "f.write(visits)\n",
      "f.close()"
     ],
     "language": "python",
     "metadata": {},
     "outputs": [],
     "prompt_number": 8
    },
    {
     "cell_type": "markdown",
     "metadata": {},
     "source": [
      "That was it, our browsing history is in file 'visits.txt'."
     ]
    },
    {
     "cell_type": "code",
     "collapsed": false,
     "input": [
      "%%bash\n",
      "head -5 visits.txt\n",
      "echo \"... ... ...\"\n",
      "tail -5 visits.txt"
     ],
     "language": "python",
     "metadata": {},
     "outputs": [
      {
       "output_type": "stream",
       "stream": "stdout",
       "text": [
        "Apple - iPhone|http://www.apple.com/iphone/|431973567.3\n",
        "Apple\u2019s September 9, 2014 event|http://live.arstechnica.com/apples-september-9-2014-event/|431975282.8\n",
        "Technology - Google-haku|https://www.google.fi/search?client=safari&rls=en&q=Technology&ie=UTF-8&oe=UTF-8&gfe_rd=cr&ei=I4foU7W5MMaK8Qfu4IGgCw|429440680.0\n",
        "|http://www.google.com/url?sa=t&rct=j&q=&esrc=s&source=web&cd=1&ved=0CDAQFjAA&url=http%3A%2F%2Fwww.stevens.edu%2F&ei=NofoU56VCMeP0AW6rYCIBg&usg=AFQjCNFN7sE7yPBglg-N1stqD034Ifa_pQ&bvm=bv.72676100,d.d2k|429440704.7\n",
        "iPhone 6 announced: 4.7-inch display, A8 processor, 8-megapixel camera, available September 19th for $199 | The Verge|http://www.theverge.com/2014/9/9/6122731/iphone-6-apple-4-7-inch-display-announced|431982335.9\n",
        "... ... ...\n",
        "|https://github.com/repositories|447553876.265621\n",
        "mmathioudakis/web_browsing|https://github.com/repositories|447553880.166885\n",
        "mmathioudakis/web_browsing|https://github.com/mmathioudakis/web_browsing/blob/master/LICENSE|447553880.191719\n",
        "web_browsing/LICENSE at master \u00b7 mmathioudakis/web_browsing|https://github.com/mmathioudakis/web_browsing/blob/master/LICENSE|447553880.488428\n",
        "mmathioudakis/web_browsing|https://github.com/mmathioudakis/web_browsing|447553876.265784\n"
       ]
      }
     ],
     "prompt_number": 19
    },
    {
     "cell_type": "heading",
     "level": 2,
     "metadata": {},
     "source": [
      "Part 2: Plots"
     ]
    },
    {
     "cell_type": "code",
     "collapsed": false,
     "input": [
      "%matplotlib inline"
     ],
     "language": "python",
     "metadata": {},
     "outputs": [],
     "prompt_number": 10
    },
    {
     "cell_type": "code",
     "collapsed": false,
     "input": [
      "import sys\n",
      "import matplotlib.pyplot as plt\n",
      "import time\n",
      "import datetime"
     ],
     "language": "python",
     "metadata": {},
     "outputs": [],
     "prompt_number": 11
    },
    {
     "cell_type": "markdown",
     "metadata": {},
     "source": [
      "Let us parse the text file we created and extract the timestamps of our visits."
     ]
    },
    {
     "cell_type": "code",
     "collapsed": false,
     "input": [
      "f = open('visits.txt')\n",
      "tt = [] # stores timestamps of our visits\n",
      "for line in f:\n",
      "    try:\n",
      "        tokens = line.rstrip().split('|')\n",
      "        time_sec = float(tokens[-1])\n",
      "        tt.append(time_sec)\n",
      "    except:\n",
      "        sys.stderr.write(line)\n",
      "        sys.stderr.write('\\n')\n",
      "f.close()\n",
      "# sort the timestamps\n",
      "tt.sort()\n",
      "\n",
      "# turn into standard POSIX by adding\n",
      "# the first second of 2001-1-1 UTC\n",
      "zero_sec = time.mktime(datetime.datetime(2001, 1, 1).timetuple())\n",
      "for i in xrange(len(tt)): tt[i] += zero_sec"
     ],
     "language": "python",
     "metadata": {},
     "outputs": [],
     "prompt_number": 12
    },
    {
     "cell_type": "markdown",
     "metadata": {},
     "source": [
      "Let us plot the daily number of pages we've visited for that period of time."
     ]
    },
    {
     "cell_type": "code",
     "collapsed": false,
     "input": [
      "bin_size = 24 * 3600 # have one bin per 24 hours\n",
      "num_of_bins = (tt[-1] - tt[0]) / bin_size\n",
      "# figure out intervals to accomodate number of labels on x-axis\n",
      "num_of_xlabels = 6\n",
      "label_bin = (tt[-1] - tt[0]) / (num_of_xlabels - 1)\n",
      "locs = [tt[0] + label_bin * (i) for i in xrange(num_of_xlabels)]\n",
      "labels = map(lambda x: str(datetime.datetime.fromtimestamp(x)).split()[0], locs)\n",
      "# plot the histogram\n",
      "plt.figure(figsize=(15, 5))\n",
      "plt.hist(tt, num_of_bins, range = (tt[0], tt[-1]))\n",
      "plt.xticks(locs, labels)\n",
      "plt.ylabel(\"Daily Visits\")\n"
     ],
     "language": "python",
     "metadata": {},
     "outputs": [
      {
       "metadata": {},
       "output_type": "pyout",
       "prompt_number": 20,
       "text": [
        "<matplotlib.text.Text at 0x107884a10>"
       ]
      },
      {
       "metadata": {},
       "output_type": "display_data",
       "png": "[encoded data removed]",
       "text": [
        "<matplotlib.figure.Figure at 0x1041d9d50>"
       ]
      }
     ],
     "prompt_number": 20
    },
    {
     "cell_type": "markdown",
     "metadata": {},
     "source": [
      "What are websites we've visited most often?\n",
      "We've already had an idea about this, but now let us do more elaborate processing."
     ]
    },
    {
     "cell_type": "code",
     "collapsed": false,
     "input": [
      "import re\n",
      "import numpy as np\n",
      "website_pattern = re.compile('http(s)?://(\\w+\\.)?(\\w+?)\\.\\w+?/')\n",
      "\n",
      "f = open('visits.txt')\n",
      "website_counts = {} # stores counts for each website\n",
      "addresses = {} # stores the different addresses (sub-domains) for each website\n",
      "for line in f:\n",
      "    try:\n",
      "        tokens = line.rstrip().split('|')\n",
      "        m = website_pattern.search(\"\".join(tokens[:-1]))\n",
      "        try:\n",
      "            website = m.group(3)\n",
      "            website_counts[website] = website_counts.get(website, 0) + 1\n",
      "            if website not in addresses:\n",
      "                addresses[website] = {}\n",
      "            addresses[website][m.group(0)] = addresses[website].get(m.group(0), 0) + 1\n",
      "        except:\n",
      "            pass\n",
      "    except:\n",
      "        sys.stderr.write(line)\n",
      "        sys.stderr.write('\\n')\n",
      "f.close()\n"
     ],
     "language": "python",
     "metadata": {},
     "outputs": [],
     "prompt_number": 15
    },
    {
     "cell_type": "markdown",
     "metadata": {},
     "source": [
      "Plot the number of visits to the websites we visit most frequently"
     ]
    },
    {
     "cell_type": "code",
     "collapsed": false,
     "input": [
      "k = 5 # The number of top websites to present\n",
      "\n",
      "# Keep the top-k websites\n",
      "k = min(k, len(website_counts))\n",
      "top_websites = sorted(website_counts.items(),\n",
      "                key = lambda x: x[1], reverse = True)[:k]\n",
      "# The number of visits to websites that are not among the top-k\n",
      "other_visits = sum(x[1] for x in top_websites[k:])\n",
      "\n",
      "# Let's make a histogram for the top-k websites\n",
      "plt.figure(figsize = (10, 5)) # create new figure\n",
      "bar_width = 0.5\n",
      "xpos = np.arange(len(top_websites)) + bar_width # bar positions on the x-axis\n",
      "plt.bar(xpos, [w[1] for w in top_websites], bar_width) # places the bars\n",
      "plt.xticks(xpos+bar_width/2, [w[0] for w in top_websites]) # ticks on x-axis\n",
      "\n"
     ],
     "language": "python",
     "metadata": {},
     "outputs": [
      {
       "metadata": {},
       "output_type": "pyout",
       "prompt_number": 16,
       "text": [
        "([<matplotlib.axis.XTick at 0x10786d690>,\n",
        "  <matplotlib.axis.XTick at 0x107871950>,\n",
        "  <matplotlib.axis.XTick at 0x107884f90>,\n",
        "  <matplotlib.axis.XTick at 0x107885750>,\n",
        "  <matplotlib.axis.XTick at 0x107885e90>],\n",
        " <a list of 5 Text xticklabel objects>)"
       ]
      },
      {
       "metadata": {},
       "output_type": "display_data",
       "png": "[encoded data removed]",
       "text": [
        "<matplotlib.figure.Figure at 0x106875650>"
       ]
      }
     ],
     "prompt_number": 16
    },
    {
     "cell_type": "code",
     "collapsed": false,
     "input": [
      "## For each of the top-k websites, show the most popular\n",
      "## addresses (sub-domains)\n",
      "\n",
      "m = 3       # Show at most m addresses...\n",
      "pct = 0.90  # ... or stop at 90% of visits\n",
      "\n",
      "# For each of the top-k websites...\n",
      "for website_name, website_visits in top_websites:\n",
      "    website_addresses = sorted(addresses[website_name].items(),\n",
      "                               key = lambda x: x[1], reverse = True)\n",
      "    \n",
      "    top_addresses = []; visits = 0.\n",
      "    for address, address_count in website_addresses:\n",
      "        visits += address_count\n",
      "        top_addresses.append((address, address_count))\n",
      "        if len(top_addresses) > m or visits / website_visits >= pct:\n",
      "            break\n",
      "        \n",
      "    # ... and the number of visits to addresses that are not among the top\n",
      "    other_num = website_visits - visits\n",
      "\n",
      "    # make a pie-chart for this website\n",
      "    # if it is associated with many addresses\n",
      "    if len(top_addresses) >= m: # TODO change this condition if you want\n",
      "        plt.figure(figsize = (7,7))\n",
      "        labels = [x[0] for x in top_addresses] + [\"other\"]\n",
      "        sizes = [x[1] for x in top_addresses] + [other_num] \n",
      "        # arbitrary choice of colors -- I like blue\n",
      "        n = float(len(sizes))\n",
      "        colors = [( p / (n + 1.), 0., (1. - p / (n + 1.)))\\\n",
      "                                  for p in xrange(len(sizes))]\n",
      "        colors[-1] = 'grey'\n",
      "        plt.pie(sizes, labels=labels, colors=colors,\n",
      "                labeldistance = 1.1, autopct='%1.1f%%', startangle = 90)"
     ],
     "language": "python",
     "metadata": {},
     "outputs": [
      {
       "metadata": {},
       "output_type": "display_data",
       "png": "[encoded data removed]",
       "text": [
        "<matplotlib.figure.Figure at 0x10686b590>"
       ]
      },
      {
       "metadata": {},
       "output_type": "display_data",
       "png": "[encoded data removed]",
       "text": [
        "<matplotlib.figure.Figure at 0x10784d750>"
       ]
      }
     ],
     "prompt_number": 17
    },
    {
     "cell_type": "heading",
     "level": 3,
     "metadata": {},
     "source": [
      "Resources"
     ]
    },
    {
     "cell_type": "markdown",
     "metadata": {},
     "source": [
      "For more information on the tools we used in this session, check the following websites.\n",
      "1. Tutorial on the [sqlite3 command line tool](http://zetcode.com/db/sqlite/tool/)\n",
      "2. Python's documentation for the [sqlite3 module](https://docs.python.org/2/library/sqlite3.html)\n",
      "3. [Running scripts in iPython]( http://nbviewer.ipython.org/github/ipython/ipython/blob/d835d46dcc50043971b4a9915398bad1b5d63648/docs/examples/notebooks/Script%20Magics.ipynb)\n",
      "4. [Markdown syntax](http://daringfireball.net/projects/markdown/syntax)"
     ]
    },
    {
     "cell_type": "code",
     "collapsed": false,
     "input": [],
     "language": "python",
     "metadata": {},
     "outputs": []
    }
   ],
   "metadata": {}
  }
 ]
}